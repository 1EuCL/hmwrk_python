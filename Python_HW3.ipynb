{
 "cells": [
  {
   "cell_type": "markdown",
   "id": "78536f0d",
   "metadata": {},
   "source": [
    "## Задание 1 "
   ]
  },
  {
   "cell_type": "code",
   "execution_count": 31,
   "id": "f85b3958",
   "metadata": {},
   "outputs": [
    {
     "name": "stdout",
     "output_type": "stream",
     "text": [
      "{98, 35, 15, 213, 54, 119}\n"
     ]
    }
   ],
   "source": [
    "ids =  {'user1': [213, 213, 213, 15, 213], \n",
    "       'user2': [54, 54, 119, 119, 119], \n",
    "       'user3': [213, 98, 98, 35]\n",
    "      }\n",
    "\n",
    "print (set(ids['user1'] + ids['user2'] + ids['user3']))\n"
   ]
  },
  {
   "cell_type": "markdown",
   "id": "cf97428d",
   "metadata": {},
   "source": [
    "## Задание 2"
   ]
  },
  {
   "cell_type": "code",
   "execution_count": 32,
   "id": "f7c01a13",
   "metadata": {
    "scrolled": true
   },
   "outputs": [
    {
     "name": "stdout",
     "output_type": "stream",
     "text": [
      "Поисковых запросов содержащих 2 слов(а): 42.86%\n",
      "Поисковых запросов содержащих 3 слов(а): 57.14%\n"
     ]
    }
   ],
   "source": [
    "queries = [\n",
    "    'смотреть сериалы онлайн',\n",
    "    'новости спорта',\n",
    "    'афиша кино',\n",
    "    'курс доллара',\n",
    "    'сериалы этим летом',\n",
    "    'курс по питону',\n",
    "    'сериалы про спорт',\n",
    "]\n",
    "\n",
    "split = [len((q.split())) for q in queries]\n",
    "\n",
    "for s in set(split): \n",
    "    print(f\"Поисковых запросов содержащих {s} слов(а): {split.count(s)/len(queries):.2%}\")"
   ]
  },
  {
   "cell_type": "markdown",
   "id": "2920eedc",
   "metadata": {},
   "source": [
    "## Задание 3 \n"
   ]
  },
  {
   "cell_type": "code",
   "execution_count": 81,
   "id": "c6a3e1a8",
   "metadata": {},
   "outputs": [
    {
     "name": "stdout",
     "output_type": "stream",
     "text": [
      "vk : {'revenue': 103, 'cost': 98, 'ROI': 5.1}\n",
      "yandex : {'revenue': 179, 'cost': 153, 'ROI': 16.99}\n",
      "facebook : {'revenue': 103, 'cost': 110, 'ROI': -6.36}\n",
      "adwords : {'revenue': 35, 'cost': 34, 'ROI': 2.94}\n",
      "twitter : {'revenue': 11, 'cost': 24, 'ROI': -54.17}\n"
     ]
    }
   ],
   "source": [
    "results = {\n",
    "    'vk': {'revenue': 103, 'cost': 98},\n",
    "    'yandex': {'revenue': 179, 'cost': 153},\n",
    "    'facebook': {'revenue': 103, 'cost': 110},\n",
    "    'adwords': {'revenue': 35, 'cost': 34},\n",
    "    'twitter': {'revenue': 11, 'cost': 24},\n",
    "}\n",
    "\n",
    "for value in results.values():\n",
    "    value['ROI'] = round((value['revenue'] / value['cost'] - 1.0) * 100, 2)\n",
    "    value['ROI'] = value['ROI']\n",
    "for key, value in results.items():\n",
    "    print(key, ':', value)\n",
    "\n",
    "\n",
    "    #val = dict(item)\n",
    "    #rev, cost = keys_1.values()\n",
    "       # roi = (rev / cost - 1) * 100\n",
    "       # item = list(keys_1.items())\n",
    "        #item.insert(0, ('ROI', roi))\n",
    "        #final = dict(item)\n",
    "        \n",
    "\n",
    "\n"
   ]
  },
  {
   "cell_type": "markdown",
   "id": "5fb88606",
   "metadata": {},
   "source": [
    "## Задание 4"
   ]
  },
  {
   "cell_type": "code",
   "execution_count": 80,
   "id": "2617d57f",
   "metadata": {},
   "outputs": [
    {
     "name": "stdout",
     "output_type": "stream",
     "text": [
      "Максимальный объем продаж на рекламном канале vk\n"
     ]
    }
   ],
   "source": [
    "stats = {'facebook': 55, 'yandex': 115, 'vk': 120, 'google': 99, 'email': 42, 'ok': 98}\n",
    "\n",
    "rank = max(stats, key=stats.get)\n",
    "print(f'Максимальный объем продаж на рекламном канале {rank}')"
   ]
  },
  {
   "cell_type": "markdown",
   "id": "43565751",
   "metadata": {},
   "source": [
    "## Задание 5 (необязательно)"
   ]
  },
  {
   "cell_type": "code",
   "execution_count": 113,
   "id": "02f0abe6",
   "metadata": {
    "scrolled": true
   },
   "outputs": [
    {
     "data": {
      "text/plain": [
       "{'2018-01-01': {'yandex': {'cpc': {100: {}}}}}"
      ]
     },
     "execution_count": 113,
     "metadata": {},
     "output_type": "execute_result"
    }
   ],
   "source": [
    "def reverse(list):\n",
    "    if list:\n",
    "        return {list[0]: reverse(list[1:])}\n",
    "    return {}\n",
    "\n",
    "my_list = ['2018-01-01', 'yandex', 'cpc', 100]\n",
    "reverse(my_list)"
   ]
  },
  {
   "cell_type": "markdown",
   "id": "adb2a24a",
   "metadata": {},
   "source": [
    "## Задание 6 (необязательно)"
   ]
  },
  {
   "cell_type": "code",
   "execution_count": 117,
   "id": "c2117c86",
   "metadata": {},
   "outputs": [
    {
     "name": "stdout",
     "output_type": "stream",
     "text": [
      "('салат', [{'ingridient_name': 'сыр', 'quantity': 50, 'measure': 'гр'}, {'ingridient_name': 'томаты', 'quantity': 2, 'measure': 'шт'}, {'ingridient_name': 'огурцы', 'quantity': 20, 'measure': 'гр'}, {'ingridient_name': 'маслины', 'quantity': 10, 'measure': 'гр'}, {'ingridient_name': 'оливковое масло', 'quantity': 20, 'measure': 'мл'}, {'ingridient_name': 'салат', 'quantity': 10, 'measure': 'гр'}, {'ingridient_name': 'перец', 'quantity': 20, 'measure': 'гр'}])\n"
     ]
    }
   ],
   "source": [
    "cook_book = {\n",
    "  'салат': [\n",
    "    {'ingridient_name': 'сыр', 'quantity': 50, 'measure': 'гр'},\n",
    "     {'ingridient_name': 'томаты', 'quantity': 2, 'measure': 'шт'},\n",
    "     {'ingridient_name': 'огурцы', 'quantity': 20, 'measure': 'гр'},\n",
    "     {'ingridient_name': 'маслины', 'quantity': 10, 'measure': 'гр'},\n",
    "     {'ingridient_name': 'оливковое масло', 'quantity': 20, 'measure': 'мл'},\n",
    "     {'ingridient_name': 'салат', 'quantity': 10, 'measure': 'гр'},\n",
    "     {'ingridient_name': 'перец', 'quantity': 20, 'measure': 'гр'}\n",
    "    ],\n",
    "  'пицца': [\n",
    "    {'ingridient_name': 'сыр', 'quantity': 20, 'measure': 'гр'},\n",
    "     {'ingridient_name': 'колбаса', 'quantity': 30, 'measure': 'гр'},\n",
    "     {'ingridient_name': 'бекон', 'quantity': 30, 'measure': 'гр'},\n",
    "     {'ingridient_name': 'оливки', 'quantity': 10, 'measure': 'гр'},\n",
    "     {'ingridient_name': 'томаты', 'quantity': 20, 'measure': 'гр'},\n",
    "     {'ingridient_name': 'тесто', 'quantity': 100, 'measure': 'гр'},   \n",
    "    ],\n",
    "  'лимонад': [\n",
    "     {'ingridient_name': 'лимон', 'quantity': 1, 'measure': 'шт'},\n",
    "     {'ingridient_name': 'вода', 'quantity': 200, 'measure': 'мл'},\n",
    "     {'ingridient_name': 'сахар', 'quantity': 10, 'measure': 'гр'},\n",
    "     {'ingridient_name': 'лайм', 'quantity': 20, 'measure': 'гр'},    \n",
    "    ]\n",
    "}\n",
    "#x=int(input())\n",
    "\n",
    "for y in cook_book.items():\n",
    "    print(y)\n",
    "    break\n"
   ]
  },
  {
   "cell_type": "code",
   "execution_count": null,
   "id": "99f5a133",
   "metadata": {},
   "outputs": [],
   "source": []
  }
 ],
 "metadata": {
  "kernelspec": {
   "display_name": "Python 3 (ipykernel)",
   "language": "python",
   "name": "python3"
  },
  "language_info": {
   "codemirror_mode": {
    "name": "ipython",
    "version": 3
   },
   "file_extension": ".py",
   "mimetype": "text/x-python",
   "name": "python",
   "nbconvert_exporter": "python",
   "pygments_lexer": "ipython3",
   "version": "3.9.12"
  }
 },
 "nbformat": 4,
 "nbformat_minor": 5
}
