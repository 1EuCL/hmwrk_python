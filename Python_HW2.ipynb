{
 "cells": [
  {
   "cell_type": "markdown",
   "id": "8845b99b",
   "metadata": {},
   "source": [
    "## ДЗ тема N2\n",
    "### Задание 1 "
   ]
  },
  {
   "cell_type": "code",
   "execution_count": 13,
   "id": "95917fad",
   "metadata": {},
   "outputs": [
    {
     "name": "stdout",
     "output_type": "stream",
     "text": [
      "test\n",
      "Это было слово с четным количеством букв, результат:es\n"
     ]
    }
   ],
   "source": [
    "word = input() \n",
    "if len(word)%2 != 0: \n",
    "    result_1_letter = int(len(word)/2)\n",
    "    print('Это было слово с нечётным количеством букв, результат:'+ word[result_1_letter])\n",
    "else:\n",
    "    resul_2_letter = int(len(word)/2)\n",
    "    print('Это было слово с четным количеством букв, результат:'+  word[resul_2_letter-1]+word[resul_2_letter])\n"
   ]
  },
  {
   "cell_type": "markdown",
   "id": "973a5154",
   "metadata": {},
   "source": [
    "### Задание 2 (необязательное)"
   ]
  },
  {
   "cell_type": "code",
   "execution_count": 33,
   "id": "e388a097",
   "metadata": {},
   "outputs": [
    {
     "name": "stdout",
     "output_type": "stream",
     "text": [
      "Результат:\n",
      "Идеальные пары:\n",
      "Alex и Emma\n",
      "Arthur и Kate\n",
      "John и Kira\n",
      "Peter и Liza\n",
      "Richard и Trisha\n",
      "\n",
      "\n",
      "Внимание, кто-то может остаться без пары!\n"
     ]
    }
   ],
   "source": [
    "boys = sorted(['Peter', 'Alex', 'John', 'Arthur', 'Richard'])\n",
    "girls = sorted(['Kate', 'Liza', 'Kira', 'Emma', 'Trisha'])\n",
    "print('Результат:\\nИдеальные пары:')\n",
    "for b, g in zip(boys, girls):\n",
    "    print(b+' и '+g)\n",
    "    \n",
    "print('\\n')\n",
    "    \n",
    "boys = sorted(['Peter', 'Alex', 'John', 'Arthur', 'Richard', 'Michael'])\n",
    "girls = sorted(['Kate', 'Liza', 'Kira', 'Emma', 'Trisha'])\n",
    "if girls != boys: \n",
    "    print('Внимание, кто-то может остаться без пары!')"
   ]
  },
  {
   "cell_type": "code",
   "execution_count": null,
   "id": "8355bf62",
   "metadata": {},
   "outputs": [],
   "source": []
  }
 ],
 "metadata": {
  "kernelspec": {
   "display_name": "Python 3 (ipykernel)",
   "language": "python",
   "name": "python3"
  },
  "language_info": {
   "codemirror_mode": {
    "name": "ipython",
    "version": 3
   },
   "file_extension": ".py",
   "mimetype": "text/x-python",
   "name": "python",
   "nbconvert_exporter": "python",
   "pygments_lexer": "ipython3",
   "version": "3.9.12"
  }
 },
 "nbformat": 4,
 "nbformat_minor": 5
}
