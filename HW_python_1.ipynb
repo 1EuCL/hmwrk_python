{
 "cells": [
  {
   "cell_type": "markdown",
   "id": "d0afcfc3",
   "metadata": {},
   "source": [
    "### ДЗ по модулю 1 "
   ]
  },
  {
   "cell_type": "code",
   "execution_count": 24,
   "id": "2e345ae2",
   "metadata": {},
   "outputs": [
    {
     "name": "stdout",
     "output_type": "stream",
     "text": [
      "Введи год состоящий из 4х цифр:2019\n",
      "Обычный год\n"
     ]
    }
   ],
   "source": [
    "year = int(input('Введи год состоящий из 4х цифр:')) \n",
    "if len(str(year))!=4:\n",
    "  print('Введи четырехзначное число!')\n",
    "elif int(year)%4 == 0: \n",
    "    print('Високосный год')\n",
    "else: \n",
    "  print('Обычный год')  "
   ]
  },
  {
   "cell_type": "markdown",
   "id": "52ee0600",
   "metadata": {},
   "source": [
    "### дополнительное ДЗ по модулю 1"
   ]
  },
  {
   "cell_type": "code",
   "execution_count": 38,
   "id": "28fada2f",
   "metadata": {},
   "outputs": [
    {
     "name": "stdout",
     "output_type": "stream",
     "text": [
      "Введи номер билета состоящий из 6х цифр:123456\n",
      "«Несчастливый билет»\n"
     ]
    }
   ],
   "source": [
    "bilet = input('Введи номер билета состоящий из 6х цифр:')\n",
    "left=int(bilet[0])+int(bilet[1])+int(bilet[2])\n",
    "right=int(bilet[3])+int(bilet[4])+int(bilet[5])\n",
    "if len(str(bilet))!=6:\n",
    "    print('Введите шестизначное число!')\n",
    "elif left == right:\n",
    "        print('Билет счастливый')\n",
    "else:\n",
    "    print('«Несчастливый билет»')"
   ]
  }
 ],
 "metadata": {
  "kernelspec": {
   "display_name": "Python 3 (ipykernel)",
   "language": "python",
   "name": "python3"
  },
  "language_info": {
   "codemirror_mode": {
    "name": "ipython",
    "version": 3
   },
   "file_extension": ".py",
   "mimetype": "text/x-python",
   "name": "python",
   "nbconvert_exporter": "python",
   "pygments_lexer": "ipython3",
   "version": "3.9.12"
  }
 },
 "nbformat": 4,
 "nbformat_minor": 5
}
